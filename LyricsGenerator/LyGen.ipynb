{
 "cells": [
  {
   "cell_type": "code",
   "execution_count": 3,
   "metadata": {
    "collapsed": true
   },
   "outputs": [],
   "source": [
    "from keras.callbacks import LambdaCallback\n",
    "from keras.models import Sequential\n",
    "from keras.layers import Dense, Activation\n",
    "from keras.layers import LSTM\n",
    "from keras.optimizers import RMSprop, Adam\n",
    "from keras.utils.data_utils import get_file\n",
    "import numpy as np\n",
    "import pandas as pd\n",
    "import sys\n",
    "import io\n",
    "import re\n",
    "from utils import *\n",
    "from unidecode import unidecode\n",
    "import warnings\n",
    "warnings.filterwarnings('ignore')"
   ]
  },
  {
   "cell_type": "code",
   "execution_count": 4,
   "metadata": {},
   "outputs": [],
   "source": [
    "songs = pd.read_csv('data/drake-songs.csv')\n"
   ]
  },
  {
   "cell_type": "code",
   "execution_count": 5,
   "metadata": {},
   "outputs": [],
   "source": [
    "def get_tokenized_lines(df):\n",
    "    words = [] \n",
    "    for index, row in df['lyrics'].iteritems():\n",
    "        row = str(row).lower()\n",
    "        for line in row.split('|-|'):\n",
    "            new_words = re.findall(r\"\\b[a-z']+\\b\", unidecode(line))\n",
    "            words = words + new_words\n",
    "    return words"
   ]
  },
  {
   "cell_type": "code",
   "execution_count": 6,
   "metadata": {},
   "outputs": [
    {
     "name": "stdout",
     "output_type": "stream",
     "text": [
      "['money', 'money', 'cars', 'cars', 'clothes', 'clothes', 'the', 'hoes', 'i', 'suppose']\n"
     ]
    }
   ],
   "source": [
    "all_lyric_sentences = get_tokenized_lines(songs)\n",
    "print(all_lyric_sentences[:10])"
   ]
  },
  {
   "cell_type": "code",
   "execution_count": 7,
   "metadata": {},
   "outputs": [
    {
     "name": "stdout",
     "output_type": "stream",
     "text": [
      " 75178 sentences in total\n"
     ]
    }
   ],
   "source": [
    "print(' {} sentences in total'.format(len(all_lyric_sentences)))\n"
   ]
  },
  {
   "cell_type": "code",
   "execution_count": 8,
   "metadata": {},
   "outputs": [
    {
     "name": "stdout",
     "output_type": "stream",
     "text": [
      "Total Sequences: 75169\n(75169, 10)\n[['money', 'money', 'cars', 'cars', 'clothes', 'clothes', 'the', 'hoes', 'i', 'suppose'], ['money', 'cars', 'cars', 'clothes', 'clothes', 'the', 'hoes', 'i', 'suppose', 'yeah']]\n"
     ]
    }
   ],
   "source": [
    "sequences=list()\n",
    "seq_len = 10\n",
    "for i in range(len(all_lyric_sentences)-seq_len+1):\n",
    "    seq = all_lyric_sentences[i:seq_len+i]\n",
    "    sequences.append(seq)\n",
    "    \n",
    "print('Total Sequences: %d' % len(sequences))\n",
    "print(np.shape(sequences))\n",
    "print(sequences[:2][:])\n"
   ]
  },
  {
   "cell_type": "code",
   "execution_count": 10,
   "metadata": {},
   "outputs": [
    {
     "name": "stdout",
     "output_type": "stream",
     "text": [
      "400000\n"
     ]
    }
   ],
   "source": [
    "from utils import *\n",
    "word_to_ind, ind_to_word, word_to_vec_map = read_glove_vecs('data/glove.6B.50d.txt')\n",
    "vocab_size = len(word_to_ind)\n",
    "print(vocab_size)"
   ]
  },
  {
   "cell_type": "code",
   "execution_count": 79,
   "metadata": {},
   "outputs": [],
   "source": [
    "\n",
    "def seq_to_indexes(X, word_to_ind):\n",
    "    \n",
    "    m = np.shape(X)[0]\n",
    "    seq_len = np.shape(X)[1]\n",
    "    X_indexes = np.zeros((m, seq_len))\n",
    "\n",
    "    for i in range(m):\n",
    "        sequence_words = X[i]\n",
    "        j = 0\n",
    "        for word in sequence_words:\n",
    "            X_indexes[i, j] = word_to_ind[word] \n",
    "            j = j + 1\n",
    "            \n",
    "    return X_indexes"
   ]
  },
  {
   "cell_type": "code",
   "execution_count": 92,
   "metadata": {},
   "outputs": [
    {
     "name": "stdout",
     "output_type": "stream",
     "text": [
      "[[248489. 248489.  92762.  92762. 103108. 103108. 357266. 180213. 185457.]\n [248489.  92762.  92762. 103108. 103108. 357266. 180213. 185457. 348225.]\n [ 92762.  92762. 103108. 103108. 357266. 180213. 185457. 348225. 393294.]\n [ 92762. 103108. 103108. 357266. 180213. 185457. 348225. 393294. 185457.]\n [103108. 103108. 357266. 180213. 185457. 348225. 393294. 185457. 383068.]\n [103108. 357266. 180213. 185457. 348225. 393294. 185457. 383068. 357266.]\n [357266. 180213. 185457. 348225. 393294. 185457. 383068. 357266. 248489.]\n [180213. 185457. 348225. 393294. 185457. 383068. 357266. 248489. 248489.]\n [185457. 348225. 393294. 185457. 383068. 357266. 248489. 248489.  54718.]\n [348225. 393294. 185457. 383068. 357266. 248489. 248489.  54718. 357266.]\n [393294. 185457. 383068. 357266. 248489. 248489.  54718. 357266.  92762.]\n [185457. 383068. 357266. 248489. 248489.  54718. 357266.  92762.  92762.]\n [383068. 357266. 248489. 248489.  54718. 357266.  92762.  92762.  54718.]\n [357266. 248489. 248489.  54718. 357266.  92762.  92762.  54718. 357266.]\n [248489. 248489.  54718. 357266.  92762.  92762.  54718. 357266. 103108.]\n [248489.  54718. 357266.  92762.  92762.  54718. 357266. 103108. 357266.]\n [ 54718. 357266.  92762.  92762.  54718. 357266. 103108. 357266. 180213.]\n [357266.  92762.  92762.  54718. 357266. 103108. 357266. 180213. 185457.]\n [ 92762.  92762.  54718. 357266. 103108. 357266. 180213. 185457. 348225.]\n [ 92762.  54718. 357266. 103108. 357266. 180213. 185457. 348225. 185457.]]\n"
     ]
    }
   ],
   "source": [
    "from keras.utils import to_categorical\n",
    "Tokenized_seq = seq_to_indexes(sequences[:20][:], word_to_ind)\n",
    "X, Y = Tokenized_seq[:,:-1], Tokenized_seq[:, -1]\n",
    "Y = to_categorical(Y, num_classes=vocab_size)\n",
    "seq_length = len(X[0])\n",
    "print(X)"
   ]
  },
  {
   "cell_type": "code",
   "execution_count": 93,
   "metadata": {},
   "outputs": [
    {
     "data": {
      "text/plain": [
       "'vocab = set(all_lyric_sentences)\\nvocab_size = len(vocab)\\nword_to_index = {wd:idx for idx,wd in enumerate(vocab)}\\nindex_to_word = {idx:wd for wd,idx in word_to_index.items()}'"
      ]
     },
     "execution_count": 93,
     "metadata": {},
     "output_type": "execute_result"
    }
   ],
   "source": [
    "\"\"\"vocab = set(all_lyric_sentences)\n",
    "vocab_size = len(vocab)\n",
    "word_to_index = {wd:idx for idx,wd in enumerate(vocab)}\n",
    "index_to_word = {idx:wd for wd,idx in word_to_index.items()}\"\"\""
   ]
  },
  {
   "cell_type": "code",
   "execution_count": 94,
   "metadata": {},
   "outputs": [
    {
     "data": {
      "text/plain": [
       "'def token_generator(sequences,seq_length):\\n    word_token = np.zeros((len(sequences),seq_length))\\n    for r, line in enumerate(sequences):\\n        for c, word in enumerate(line):\\n            word_token[r,c]=word_to_index[word]\\n    return word_token'"
      ]
     },
     "execution_count": 94,
     "metadata": {},
     "output_type": "execute_result"
    }
   ],
   "source": [
    "\"\"\"def token_generator(sequences,seq_length):\n",
    "    word_token = np.zeros((len(sequences),seq_length))\n",
    "    for r, line in enumerate(sequences):\n",
    "        for c, word in enumerate(line):\n",
    "            word_token[r,c]=word_to_index[word]\n",
    "    return word_token\"\"\""
   ]
  },
  {
   "cell_type": "code",
   "execution_count": 10,
   "metadata": {},
   "outputs": [
    {
     "name": "stdout",
     "output_type": "stream",
     "text": [
      "[[5178. 5178. 5138. 5138. 5786. 5786. 1664. 5045. 4904. 4327.]\n [5178. 5138. 5138. 5786. 5786. 1664. 5045. 4904. 4327. 3836.]]\n"
     ]
    }
   ],
   "source": [
    "\"\"\"tokenized_seq = token_generator(sequences,seq_len) \n",
    "print(tokenized_seq[:2,:])\"\"\""
   ]
  },
  {
   "cell_type": "code",
   "execution_count": 11,
   "metadata": {},
   "outputs": [],
   "source": [
    "\"\"\"from keras.utils import to_categorical\n",
    "X,Y = tokenized_seq[:,:-1], tokenized_seq[:,-1]\n",
    "Y = to_categorical(Y, num_classes=vocab_size)\n",
    "seq_length = len(X[0])\"\"\""
   ]
  },
  {
   "cell_type": "code",
   "execution_count": 95,
   "metadata": {},
   "outputs": [],
   "source": [
    "def pretrained_embedding(word_to_vec_map, word_to_ind,seq_length):\n",
    "    vocab_len = len(word_to_ind) + 1\n",
    "    emb_dim = word_to_vec_map['cucumber'].shape[0]\n",
    "    emb_matrix = np.zeros((vocab_len, emb_dim))\n",
    "    \n",
    "    for word, index in word_to_ind.items():\n",
    "        emb_matrix[index,:] = word_to_vec_map[word]\n",
    "    embedding_layer = Embedding(vocab_len, emb_dim,input_length=seq_length ,trainable=False)\n",
    "    embedding_layer.build((None,))\n",
    "    embedding_layer.set_weights([emb_matrix])\n",
    "    \n",
    "    return embedding_layer "
   ]
  },
  {
   "cell_type": "code",
   "execution_count": 97,
   "metadata": {},
   "outputs": [
    {
     "name": "stdout",
     "output_type": "stream",
     "text": [
      "_________________________________________________________________\nLayer (type)                 Output Shape              Param #   \n=================================================================\ninput_5 (InputLayer)         (None, 9)                 0         \n_________________________________________________________________\nembedding_3 (Embedding)      (None, 9, 50)             20000050  \n_________________________________________________________________\nlstm_3 (LSTM)                (None, 9, 128)            91648     \n_________________________________________________________________\ndropout_2 (Dropout)          (None, 9, 128)            0         \n_________________________________________________________________\nlstm_4 (LSTM)                (None, 128)               131584    \n_________________________________________________________________\ndense_2 (Dense)              (None, 400000)            51600000  \n=================================================================\nTotal params: 71,823,282\nTrainable params: 51,823,232\nNon-trainable params: 20,000,050\n_________________________________________________________________\n"
     ]
    },
    {
     "name": "stdout",
     "output_type": "stream",
     "text": [
      "Epoch 1/50\n"
     ]
    },
    {
     "name": "stdout",
     "output_type": "stream",
     "text": [
      "\r20/20 [==============================] - 4s 210ms/step - loss: 12.9016 - acc: 0.0000e+00\n"
     ]
    },
    {
     "name": "stdout",
     "output_type": "stream",
     "text": [
      "Epoch 2/50\n"
     ]
    },
    {
     "name": "stdout",
     "output_type": "stream",
     "text": [
      "\r20/20 [==============================] - 1s 48ms/step - loss: 12.8934 - acc: 0.1000\n"
     ]
    },
    {
     "name": "stdout",
     "output_type": "stream",
     "text": [
      "Epoch 3/50\n"
     ]
    },
    {
     "name": "stdout",
     "output_type": "stream",
     "text": [
      "\r20/20 [==============================] - 1s 50ms/step - loss: 12.8768 - acc: 0.1500\n"
     ]
    },
    {
     "name": "stdout",
     "output_type": "stream",
     "text": [
      "Epoch 4/50\n"
     ]
    },
    {
     "name": "stdout",
     "output_type": "stream",
     "text": [
      "\r20/20 [==============================] - 1s 51ms/step - loss: 12.8583 - acc: 0.1500\n"
     ]
    },
    {
     "name": "stdout",
     "output_type": "stream",
     "text": [
      "Epoch 5/50\n"
     ]
    },
    {
     "name": "stdout",
     "output_type": "stream",
     "text": [
      "\r20/20 [==============================] - 1s 51ms/step - loss: 12.8277 - acc: 0.2000\n"
     ]
    },
    {
     "name": "stdout",
     "output_type": "stream",
     "text": [
      "Epoch 6/50\n"
     ]
    },
    {
     "name": "stdout",
     "output_type": "stream",
     "text": [
      "\r20/20 [==============================] - 1s 51ms/step - loss: 12.7845 - acc: 0.1500\n"
     ]
    },
    {
     "name": "stdout",
     "output_type": "stream",
     "text": [
      "Epoch 7/50\n"
     ]
    },
    {
     "name": "stdout",
     "output_type": "stream",
     "text": [
      "\r20/20 [==============================] - 1s 51ms/step - loss: 12.7214 - acc: 0.2000\n"
     ]
    },
    {
     "name": "stdout",
     "output_type": "stream",
     "text": [
      "Epoch 8/50\n"
     ]
    },
    {
     "name": "stdout",
     "output_type": "stream",
     "text": [
      "\r20/20 [==============================] - 1s 52ms/step - loss: 12.6318 - acc: 0.1500\n"
     ]
    },
    {
     "name": "stdout",
     "output_type": "stream",
     "text": [
      "Epoch 9/50\n"
     ]
    },
    {
     "name": "stdout",
     "output_type": "stream",
     "text": [
      "\r20/20 [==============================] - 1s 51ms/step - loss: 12.5174 - acc: 0.1500\n"
     ]
    },
    {
     "name": "stdout",
     "output_type": "stream",
     "text": [
      "Epoch 10/50\n"
     ]
    },
    {
     "name": "stdout",
     "output_type": "stream",
     "text": [
      "\r20/20 [==============================] - 1s 51ms/step - loss: 12.3684 - acc: 0.1500\n"
     ]
    },
    {
     "name": "stdout",
     "output_type": "stream",
     "text": [
      "Epoch 11/50\n"
     ]
    },
    {
     "name": "stdout",
     "output_type": "stream",
     "text": [
      "\r20/20 [==============================] - 1s 51ms/step - loss: 12.2057 - acc: 0.1500\n"
     ]
    },
    {
     "name": "stdout",
     "output_type": "stream",
     "text": [
      "Epoch 12/50\n"
     ]
    },
    {
     "name": "stdout",
     "output_type": "stream",
     "text": [
      "\r20/20 [==============================] - 1s 50ms/step - loss: 12.0204 - acc: 0.2000\n"
     ]
    },
    {
     "name": "stdout",
     "output_type": "stream",
     "text": [
      "Epoch 13/50\n"
     ]
    },
    {
     "name": "stdout",
     "output_type": "stream",
     "text": [
      "\r20/20 [==============================] - 1s 51ms/step - loss: 11.8129 - acc: 0.2000\n"
     ]
    },
    {
     "name": "stdout",
     "output_type": "stream",
     "text": [
      "Epoch 14/50\n"
     ]
    },
    {
     "name": "stdout",
     "output_type": "stream",
     "text": [
      "\r20/20 [==============================] - 1s 51ms/step - loss: 11.5880 - acc: 0.1000\n"
     ]
    },
    {
     "name": "stdout",
     "output_type": "stream",
     "text": [
      "Epoch 15/50\n"
     ]
    },
    {
     "name": "stdout",
     "output_type": "stream",
     "text": [
      "\r20/20 [==============================] - 1s 51ms/step - loss: 11.3204 - acc: 0.2000\n"
     ]
    },
    {
     "name": "stdout",
     "output_type": "stream",
     "text": [
      "Epoch 16/50\n"
     ]
    },
    {
     "name": "stdout",
     "output_type": "stream",
     "text": [
      "\r20/20 [==============================] - 1s 51ms/step - loss: 11.0626 - acc: 0.2000\n"
     ]
    },
    {
     "name": "stdout",
     "output_type": "stream",
     "text": [
      "Epoch 17/50\n"
     ]
    },
    {
     "name": "stdout",
     "output_type": "stream",
     "text": [
      "\r20/20 [==============================] - 1s 52ms/step - loss: 10.7653 - acc: 0.1500\n"
     ]
    },
    {
     "name": "stdout",
     "output_type": "stream",
     "text": [
      "Epoch 18/50\n"
     ]
    },
    {
     "name": "stdout",
     "output_type": "stream",
     "text": [
      "\r20/20 [==============================] - 1s 51ms/step - loss: 10.4777 - acc: 0.1000\n"
     ]
    },
    {
     "name": "stdout",
     "output_type": "stream",
     "text": [
      "Epoch 19/50\n"
     ]
    },
    {
     "name": "stdout",
     "output_type": "stream",
     "text": [
      "\r20/20 [==============================] - 1s 50ms/step - loss: 10.1935 - acc: 0.1500\n"
     ]
    },
    {
     "name": "stdout",
     "output_type": "stream",
     "text": [
      "Epoch 20/50\n"
     ]
    },
    {
     "name": "stdout",
     "output_type": "stream",
     "text": [
      "\r20/20 [==============================] - 1s 50ms/step - loss: 9.9007 - acc: 0.2000\n"
     ]
    },
    {
     "name": "stdout",
     "output_type": "stream",
     "text": [
      "Epoch 21/50\n"
     ]
    },
    {
     "name": "stdout",
     "output_type": "stream",
     "text": [
      "\r20/20 [==============================] - 1s 51ms/step - loss: 9.6156 - acc: 0.1500\n"
     ]
    },
    {
     "name": "stdout",
     "output_type": "stream",
     "text": [
      "Epoch 22/50\n"
     ]
    },
    {
     "name": "stdout",
     "output_type": "stream",
     "text": [
      "\r20/20 [==============================] - 1s 50ms/step - loss: 9.3398 - acc: 0.1500\n"
     ]
    },
    {
     "name": "stdout",
     "output_type": "stream",
     "text": [
      "Epoch 23/50\n"
     ]
    },
    {
     "name": "stdout",
     "output_type": "stream",
     "text": [
      "\r20/20 [==============================] - 1s 50ms/step - loss: 9.0696 - acc: 0.2500\n"
     ]
    },
    {
     "name": "stdout",
     "output_type": "stream",
     "text": [
      "Epoch 24/50\n"
     ]
    },
    {
     "name": "stdout",
     "output_type": "stream",
     "text": [
      "\r20/20 [==============================] - 1s 51ms/step - loss: 8.7980 - acc: 0.2000\n"
     ]
    },
    {
     "name": "stdout",
     "output_type": "stream",
     "text": [
      "Epoch 25/50\n"
     ]
    },
    {
     "name": "stdout",
     "output_type": "stream",
     "text": [
      "\r20/20 [==============================] - 1s 50ms/step - loss: 8.5339 - acc: 0.2000\n"
     ]
    },
    {
     "name": "stdout",
     "output_type": "stream",
     "text": [
      "Epoch 26/50\n"
     ]
    },
    {
     "name": "stdout",
     "output_type": "stream",
     "text": [
      "\r20/20 [==============================] - 1s 51ms/step - loss: 8.2676 - acc: 0.2000\n"
     ]
    },
    {
     "name": "stdout",
     "output_type": "stream",
     "text": [
      "Epoch 27/50\n"
     ]
    },
    {
     "name": "stdout",
     "output_type": "stream",
     "text": [
      "\r20/20 [==============================] - 1s 51ms/step - loss: 7.9997 - acc: 0.2000\n"
     ]
    },
    {
     "name": "stdout",
     "output_type": "stream",
     "text": [
      "Epoch 28/50\n"
     ]
    },
    {
     "name": "stdout",
     "output_type": "stream",
     "text": [
      "\r20/20 [==============================] - 1s 51ms/step - loss: 7.7340 - acc: 0.2000\n"
     ]
    },
    {
     "name": "stdout",
     "output_type": "stream",
     "text": [
      "Epoch 29/50\n"
     ]
    },
    {
     "name": "stdout",
     "output_type": "stream",
     "text": [
      "\r20/20 [==============================] - 1s 51ms/step - loss: 7.4654 - acc: 0.2000\n"
     ]
    },
    {
     "name": "stdout",
     "output_type": "stream",
     "text": [
      "Epoch 30/50\n"
     ]
    },
    {
     "name": "stdout",
     "output_type": "stream",
     "text": [
      "\r20/20 [==============================] - 1s 51ms/step - loss: 7.1991 - acc: 0.2000\n"
     ]
    },
    {
     "name": "stdout",
     "output_type": "stream",
     "text": [
      "Epoch 31/50\n"
     ]
    },
    {
     "name": "stdout",
     "output_type": "stream",
     "text": [
      "\r20/20 [==============================] - 1s 51ms/step - loss: 6.9290 - acc: 0.2000\n"
     ]
    },
    {
     "name": "stdout",
     "output_type": "stream",
     "text": [
      "Epoch 32/50\n"
     ]
    },
    {
     "name": "stdout",
     "output_type": "stream",
     "text": [
      "\r20/20 [==============================] - 1s 51ms/step - loss: 6.6593 - acc: 0.2000\n"
     ]
    },
    {
     "name": "stdout",
     "output_type": "stream",
     "text": [
      "Epoch 33/50\n"
     ]
    },
    {
     "name": "stdout",
     "output_type": "stream",
     "text": [
      "\r20/20 [==============================] - 1s 51ms/step - loss: 6.3933 - acc: 0.2000\n"
     ]
    },
    {
     "name": "stdout",
     "output_type": "stream",
     "text": [
      "Epoch 34/50\n"
     ]
    },
    {
     "name": "stdout",
     "output_type": "stream",
     "text": [
      "\r20/20 [==============================] - 1s 51ms/step - loss: 6.1283 - acc: 0.2000\n"
     ]
    },
    {
     "name": "stdout",
     "output_type": "stream",
     "text": [
      "Epoch 35/50\n"
     ]
    },
    {
     "name": "stdout",
     "output_type": "stream",
     "text": [
      "\r20/20 [==============================] - 1s 51ms/step - loss: 5.8618 - acc: 0.2000\n"
     ]
    },
    {
     "name": "stdout",
     "output_type": "stream",
     "text": [
      "Epoch 36/50\n"
     ]
    },
    {
     "name": "stdout",
     "output_type": "stream",
     "text": [
      "\r20/20 [==============================] - 1s 51ms/step - loss: 5.6006 - acc: 0.2000\n"
     ]
    },
    {
     "name": "stdout",
     "output_type": "stream",
     "text": [
      "Epoch 37/50\n"
     ]
    },
    {
     "name": "stdout",
     "output_type": "stream",
     "text": [
      "\r20/20 [==============================] - 1s 50ms/step - loss: 5.3397 - acc: 0.2000\n"
     ]
    },
    {
     "name": "stdout",
     "output_type": "stream",
     "text": [
      "Epoch 38/50\n"
     ]
    },
    {
     "name": "stdout",
     "output_type": "stream",
     "text": [
      "\r20/20 [==============================] - 1s 51ms/step - loss: 5.0856 - acc: 0.2000\n"
     ]
    },
    {
     "name": "stdout",
     "output_type": "stream",
     "text": [
      "Epoch 39/50\n"
     ]
    },
    {
     "name": "stdout",
     "output_type": "stream",
     "text": [
      "\r20/20 [==============================] - 1s 50ms/step - loss: 4.8368 - acc: 0.2000\n"
     ]
    },
    {
     "name": "stdout",
     "output_type": "stream",
     "text": [
      "Epoch 40/50\n"
     ]
    },
    {
     "name": "stdout",
     "output_type": "stream",
     "text": [
      "\r20/20 [==============================] - 1s 52ms/step - loss: 4.5921 - acc: 0.2000\n"
     ]
    },
    {
     "name": "stdout",
     "output_type": "stream",
     "text": [
      "Epoch 41/50\n"
     ]
    },
    {
     "name": "stdout",
     "output_type": "stream",
     "text": [
      "\r20/20 [==============================] - 1s 51ms/step - loss: 4.3558 - acc: 0.2000\n"
     ]
    },
    {
     "name": "stdout",
     "output_type": "stream",
     "text": [
      "Epoch 42/50\n"
     ]
    },
    {
     "name": "stdout",
     "output_type": "stream",
     "text": [
      "\r20/20 [==============================] - 1s 51ms/step - loss: 4.1322 - acc: 0.2000\n"
     ]
    },
    {
     "name": "stdout",
     "output_type": "stream",
     "text": [
      "Epoch 43/50\n"
     ]
    },
    {
     "name": "stdout",
     "output_type": "stream",
     "text": [
      "\r20/20 [==============================] - 1s 51ms/step - loss: 3.9177 - acc: 0.2000\n"
     ]
    },
    {
     "name": "stdout",
     "output_type": "stream",
     "text": [
      "Epoch 44/50\n"
     ]
    },
    {
     "name": "stdout",
     "output_type": "stream",
     "text": [
      "\r20/20 [==============================] - 1s 52ms/step - loss: 3.7193 - acc: 0.2000\n"
     ]
    },
    {
     "name": "stdout",
     "output_type": "stream",
     "text": [
      "Epoch 45/50\n"
     ]
    },
    {
     "name": "stdout",
     "output_type": "stream",
     "text": [
      "\r20/20 [==============================] - 1s 54ms/step - loss: 3.5347 - acc: 0.2000\n"
     ]
    },
    {
     "name": "stdout",
     "output_type": "stream",
     "text": [
      "Epoch 46/50\n"
     ]
    },
    {
     "name": "stdout",
     "output_type": "stream",
     "text": [
      "\r20/20 [==============================] - 1s 55ms/step - loss: 3.3670 - acc: 0.2000\n"
     ]
    },
    {
     "name": "stdout",
     "output_type": "stream",
     "text": [
      "Epoch 47/50\n"
     ]
    },
    {
     "name": "stdout",
     "output_type": "stream",
     "text": [
      "\r20/20 [==============================] - 1s 56ms/step - loss: 3.2149 - acc: 0.2000\n"
     ]
    },
    {
     "name": "stdout",
     "output_type": "stream",
     "text": [
      "Epoch 48/50\n"
     ]
    },
    {
     "name": "stdout",
     "output_type": "stream",
     "text": [
      "\r20/20 [==============================] - 1s 54ms/step - loss: 3.0851 - acc: 0.2000\n"
     ]
    },
    {
     "name": "stdout",
     "output_type": "stream",
     "text": [
      "Epoch 49/50\n"
     ]
    },
    {
     "name": "stdout",
     "output_type": "stream",
     "text": [
      "\r20/20 [==============================] - 1s 54ms/step - loss: 2.9668 - acc: 0.2000\n"
     ]
    },
    {
     "name": "stdout",
     "output_type": "stream",
     "text": [
      "Epoch 50/50\n"
     ]
    },
    {
     "name": "stdout",
     "output_type": "stream",
     "text": [
      "\r20/20 [==============================] - 1s 55ms/step - loss: 2.8662 - acc: 0.2000\n"
     ]
    },
    {
     "data": {
      "text/plain": [
       "<keras.callbacks.History at 0x21155160>"
      ]
     },
     "execution_count": 97,
     "metadata": {},
     "output_type": "execute_result"
    }
   ],
   "source": [
    "from keras.layers import Embedding, Input, Dropout\n",
    "from keras.models import Model\n",
    "\n",
    "\n",
    "def LyGen_model(input_shape, vocab_size):\n",
    "    X_input = Input(shape=input_shape)\n",
    "    \n",
    "    embedding_layer = pretrained_embedding(word_to_vec_map, word_to_ind, seq_length)\n",
    "    embeddings = embedding_layer(X_input)\n",
    "    X = LSTM(128, return_sequences=True)(embeddings)\n",
    "    X = Dropout(0.5)(X)\n",
    "    X = LSTM(128, return_sequences=False)(X)\n",
    "    X = Dense(vocab_size, activation = 'softmax')(X)\n",
    "    \n",
    "    model = Model(inputs=X_input, outputs=X)\n",
    "    \n",
    "    return model\n",
    "\n",
    "\n",
    "model = LyGen_model((seq_length,), vocab_size)\n",
    "model.summary()\n",
    "model.compile(loss='categorical_crossentropy', optimizer='adam',metrics=['accuracy'])\n",
    "model.fit(X, Y, epochs=50, batch_size=32)    \n",
    "\n"
   ]
  },
  {
   "cell_type": "code",
   "execution_count": null,
   "metadata": {},
   "outputs": [],
   "source": [
    "\"\"\"model=Sequential()\n",
    "model.add(Embedding(vocab_size,64,input_length=seq_length))\n",
    "model.add(LSTM(128,return_sequences=True))\n",
    "model.add(LSTM(128,return_sequences=False))\n",
    "model.add(Dense(vocab_size, activation='softmax'))\n",
    "model.summary()\n",
    "\n",
    "model.compile(optimizer='adam',loss='categorical_crossentropy',metrics=['accuracy'])\n",
    "model.fit(X,Y,batch_size=32,epochs=100)\"\"\""
   ]
  },
  {
   "cell_type": "code",
   "execution_count": 98,
   "metadata": {},
   "outputs": [],
   "source": [
    "def load_doc(filename):\n",
    "    f=open(filename,'r')\n",
    "    text=f.read()\n",
    "    f.close()\n",
    "    return text"
   ]
  },
  {
   "cell_type": "code",
   "execution_count": 99,
   "metadata": {},
   "outputs": [],
   "source": [
    "filename='data/clean_sequences.txt'\n",
    "doc=load_doc(filename)\n",
    "lines=doc.split('\\n')"
   ]
  },
  {
   "cell_type": "code",
   "execution_count": 103,
   "metadata": {},
   "outputs": [
    {
     "name": "stdout",
     "output_type": "stream",
     "text": [
      "and they cut deep but it's our world it's just us two see painkillers on the kitchen counter hate to see it all hurt so bad but maybe wouldn't have worked as hard if you were healthy and it weren't so bad uh maybe should walk up the street and try\n"
     ]
    }
   ],
   "source": [
    "from random import randint\n",
    "seed_text=lines[randint(0,len(lines))]\n",
    "print(seed_text)"
   ]
  },
  {
   "cell_type": "code",
   "execution_count": 104,
   "metadata": {},
   "outputs": [],
   "source": [
    "\"\"\"def texts_to_sequences(texts,word_to_index):\n",
    "    indexes = np.zeros((1, len(texts)), dtype=int)\n",
    "    for idx, text in enumerate(texts):\n",
    "        indexes[:,idx] = word_to_index[text]\n",
    "    return indexes\"\"\"\n",
    "\n"
   ]
  },
  {
   "cell_type": "code",
   "execution_count": 105,
   "metadata": {},
   "outputs": [
    {
     "ename": "NameError",
     "evalue": "name 'word_to_index' is not defined",
     "traceback": [
      "\u001b[1;31m---------------------------------------------------------------------------\u001b[0m",
      "\u001b[1;31mNameError\u001b[0m                                 Traceback (most recent call last)",
      "\u001b[1;32m<ipython-input-105-d25ea5f85f6f>\u001b[0m in \u001b[0;36m<module>\u001b[1;34m()\u001b[0m\n\u001b[1;32m----> 1\u001b[1;33m \u001b[0mindexes\u001b[0m\u001b[1;33m=\u001b[0m\u001b[0mtexts_to_sequences\u001b[0m\u001b[1;33m(\u001b[0m\u001b[0mseed_text\u001b[0m\u001b[1;33m.\u001b[0m\u001b[0msplit\u001b[0m\u001b[1;33m(\u001b[0m\u001b[1;33m)\u001b[0m\u001b[1;33m,\u001b[0m\u001b[0mword_to_index\u001b[0m\u001b[1;33m)\u001b[0m\u001b[1;33m\u001b[0m\u001b[0m\n\u001b[0m\u001b[0;32m      2\u001b[0m \u001b[0mprint\u001b[0m\u001b[1;33m(\u001b[0m\u001b[0mindexes\u001b[0m\u001b[1;33m)\u001b[0m\u001b[1;33m\u001b[0m\u001b[0m\n",
      "\u001b[1;31mNameError\u001b[0m: name 'word_to_index' is not defined"
     ],
     "output_type": "error"
    }
   ],
   "source": [
    "\"\"\"indexes=texts_to_sequences(seed_text.split(),word_to_index)\n",
    "print(indexes)\"\"\""
   ]
  },
  {
   "cell_type": "code",
   "execution_count": 106,
   "metadata": {},
   "outputs": [
    {
     "ename": "IndexError",
     "evalue": "tuple index out of range",
     "traceback": [
      "\u001b[1;31m---------------------------------------------------------------------------\u001b[0m",
      "\u001b[1;31mIndexError\u001b[0m                                Traceback (most recent call last)",
      "\u001b[1;32m<ipython-input-106-f378a70d9f4b>\u001b[0m in \u001b[0;36m<module>\u001b[1;34m()\u001b[0m\n\u001b[1;32m----> 1\u001b[1;33m \u001b[0mindexes\u001b[0m \u001b[1;33m=\u001b[0m \u001b[0mseq_to_indexes\u001b[0m\u001b[1;33m(\u001b[0m\u001b[0mseed_text\u001b[0m\u001b[1;33m.\u001b[0m\u001b[0msplit\u001b[0m\u001b[1;33m(\u001b[0m\u001b[1;33m)\u001b[0m\u001b[1;33m,\u001b[0m \u001b[0mword_to_ind\u001b[0m\u001b[1;33m)\u001b[0m\u001b[1;33m\u001b[0m\u001b[0m\n\u001b[0m",
      "\u001b[1;32m<ipython-input-79-840d30ff727f>\u001b[0m in \u001b[0;36mseq_to_indexes\u001b[1;34m(X, word_to_ind)\u001b[0m\n\u001b[0;32m      3\u001b[0m \u001b[1;33m\u001b[0m\u001b[0m\n\u001b[0;32m      4\u001b[0m     \u001b[0mm\u001b[0m \u001b[1;33m=\u001b[0m \u001b[0mnp\u001b[0m\u001b[1;33m.\u001b[0m\u001b[0mshape\u001b[0m\u001b[1;33m(\u001b[0m\u001b[0mX\u001b[0m\u001b[1;33m)\u001b[0m\u001b[1;33m[\u001b[0m\u001b[1;36m0\u001b[0m\u001b[1;33m]\u001b[0m\u001b[1;33m\u001b[0m\u001b[0m\n\u001b[1;32m----> 5\u001b[1;33m     \u001b[0mseq_len\u001b[0m \u001b[1;33m=\u001b[0m \u001b[0mnp\u001b[0m\u001b[1;33m.\u001b[0m\u001b[0mshape\u001b[0m\u001b[1;33m(\u001b[0m\u001b[0mX\u001b[0m\u001b[1;33m)\u001b[0m\u001b[1;33m[\u001b[0m\u001b[1;36m1\u001b[0m\u001b[1;33m]\u001b[0m\u001b[1;33m\u001b[0m\u001b[0m\n\u001b[0m\u001b[0;32m      6\u001b[0m     \u001b[0mX_indexes\u001b[0m \u001b[1;33m=\u001b[0m \u001b[0mnp\u001b[0m\u001b[1;33m.\u001b[0m\u001b[0mzeros\u001b[0m\u001b[1;33m(\u001b[0m\u001b[1;33m(\u001b[0m\u001b[0mm\u001b[0m\u001b[1;33m,\u001b[0m \u001b[0mseq_len\u001b[0m\u001b[1;33m)\u001b[0m\u001b[1;33m)\u001b[0m\u001b[1;33m\u001b[0m\u001b[0m\n\u001b[0;32m      7\u001b[0m \u001b[1;33m\u001b[0m\u001b[0m\n",
      "\u001b[1;31mIndexError\u001b[0m: tuple index out of range"
     ],
     "output_type": "error"
    }
   ],
   "source": [
    "indexes = seq_to_indexes(seed_text.split(), word_to_ind)"
   ]
  },
  {
   "cell_type": "code",
   "execution_count": 117,
   "metadata": {},
   "outputs": [],
   "source": [
    "from keras.preprocessing.sequence import pad_sequences\n",
    "def seq_generator(model,word_to_ind,seq_length,seed_text,n_words):\n",
    "    result = list()\n",
    "    input_text = seed_text\n",
    "    for _ in range(n_words):\n",
    "        encoded = texts_to_sequences(input_text.split(),word_to_ind)\n",
    "        encoded = pad_sequences([encoded],maxlen=seq_length, padding='pre', truncating='pre')\n",
    "        yhat = model.predict_classes(encoded, verbose = 0)\n",
    "        out_word = ind_to_word[yhat]\n",
    "    \n",
    "        input_text += ' ' + out_word\n",
    "        result.append(out_word)\n",
    "    return result\n",
    "    \n",
    "    \n",
    "    \n",
    "    "
   ]
  },
  {
   "cell_type": "code",
   "execution_count": 118,
   "metadata": {},
   "outputs": [
    {
     "ename": "NameError",
     "evalue": "name 'generate_seq' is not defined",
     "traceback": [
      "\u001b[1;31m---------------------------------------------------------------------------\u001b[0m",
      "\u001b[1;31mNameError\u001b[0m                                 Traceback (most recent call last)",
      "\u001b[1;32m<ipython-input-118-62358f55b78f>\u001b[0m in \u001b[0;36m<module>\u001b[1;34m()\u001b[0m\n\u001b[1;32m----> 1\u001b[1;33m \u001b[0mgenerated\u001b[0m \u001b[1;33m=\u001b[0m \u001b[0mgenerate_seq\u001b[0m\u001b[1;33m(\u001b[0m\u001b[0mmodel\u001b[0m\u001b[1;33m,\u001b[0m \u001b[0mword_to_index\u001b[0m\u001b[1;33m,\u001b[0m \u001b[0mseq_length\u001b[0m\u001b[1;33m,\u001b[0m \u001b[0mseed_text\u001b[0m\u001b[1;33m,\u001b[0m \u001b[1;36m50\u001b[0m\u001b[1;33m)\u001b[0m\u001b[1;33m\u001b[0m\u001b[0m\n\u001b[0m\u001b[0;32m      2\u001b[0m \u001b[0mprint\u001b[0m\u001b[1;33m(\u001b[0m\u001b[0mgenerated\u001b[0m\u001b[1;33m)\u001b[0m\u001b[1;33m\u001b[0m\u001b[0m\n",
      "\u001b[1;31mNameError\u001b[0m: name 'generate_seq' is not defined"
     ],
     "output_type": "error"
    }
   ],
   "source": [
    "generated = seq_generator(model, word_to_ind, seq_length, seed_text, 50)\n",
    "print(generated)"
   ]
  },
  {
   "cell_type": "code",
   "execution_count": null,
   "metadata": {},
   "outputs": [],
   "source": []
  }
 ],
 "metadata": {
  "kernelspec": {
   "display_name": "Python 2",
   "language": "python",
   "name": "python2"
  },
  "language_info": {
   "codemirror_mode": {
    "name": "ipython",
    "version": 2
   },
   "file_extension": ".py",
   "mimetype": "text/x-python",
   "name": "python",
   "nbconvert_exporter": "python",
   "pygments_lexer": "ipython2",
   "version": "2.7.6"
  }
 },
 "nbformat": 4,
 "nbformat_minor": 0
}

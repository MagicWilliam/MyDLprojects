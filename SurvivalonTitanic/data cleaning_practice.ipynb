{
 "cells": [
  {
   "cell_type": "code",
   "execution_count": 1,
   "metadata": {
    "collapsed": true
   },
   "outputs": [],
   "source": [
    "import pandas as pd\n",
    "from sklearn.preprocessing import OneHotEncoder, LabelEncoder "
   ]
  },
  {
   "cell_type": "code",
   "execution_count": 12,
   "metadata": {},
   "outputs": [
    {
     "name": "stdout",
     "output_type": "stream",
     "text": [
      "  Sex  Age  Sur\n0   f   12    y\n1   m    5    n\n2   m    8    n\n3   f   34    y\n4   f    5  unk\n"
     ]
    }
   ],
   "source": [
    "df=pd.DataFrame({'Sex':['f', 'm', 'm','f', 'f'],'Age':[12,5,8,34,5],'Sur':['y','n','n','y','unk']})\n",
    "print(df)"
   ]
  },
  {
   "cell_type": "code",
   "execution_count": 4,
   "metadata": {},
   "outputs": [
    {
     "name": "stdout",
     "output_type": "stream",
     "text": [
      "0    0\n1    1\n2    1\n3    0\n4    0\nName: sex_code, dtype: int64\n"
     ]
    }
   ],
   "source": [
    "label=LabelEncoder()\n",
    "data=df\n",
    "data['sex_code']= label.fit_transform(df['Sex'])\n",
    "print(data['sex_code'])"
   ]
  },
  {
   "cell_type": "code",
   "execution_count": 13,
   "metadata": {},
   "outputs": [
    {
     "name": "stdout",
     "output_type": "stream",
     "text": [
      "   Age  Sex_f  Sex_m  Sur_n  Sur_unk  Sur_y\n0   12      1      0      0        0      1\n1    5      0      1      1        0      0\n2    8      0      1      1        0      0\n3   34      1      0      0        0      1\n4    5      1      0      0        1      0\n"
     ]
    }
   ],
   "source": [
    "data2=pd.get_dummies(df[['Sex','Age','Sur']])\n",
    "print(data2)"
   ]
  },
  {
   "cell_type": "code",
   "execution_count": null,
   "metadata": {},
   "outputs": [],
   "source": []
  }
 ],
 "metadata": {
  "kernelspec": {
   "display_name": "Python 2",
   "language": "python",
   "name": "python2"
  },
  "language_info": {
   "codemirror_mode": {
    "name": "ipython",
    "version": 2
   },
   "file_extension": ".py",
   "mimetype": "text/x-python",
   "name": "python",
   "nbconvert_exporter": "python",
   "pygments_lexer": "ipython2",
   "version": "2.7.6"
  }
 },
 "nbformat": 4,
 "nbformat_minor": 0
}
